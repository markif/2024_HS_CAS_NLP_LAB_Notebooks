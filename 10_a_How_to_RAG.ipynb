{
 "cells": [
  {
   "cell_type": "markdown",
   "id": "6d29ea3d-6c1a-4c1a-b4bb-bca7388641a7",
   "metadata": {},
   "source": [
    "<img align=\"right\" width=\"400\" src=\"https://www.fhnw.ch/de/++theme++web16theme/assets/media/img/fachhochschule-nordwestschweiz-fhnw-logo.svg\" alt=\"FHNW Logo\">\n",
    "\n",
    "\n",
    "# How to RAG\n",
    "\n",
    "by Fabian Märki\n",
    "\n",
    "## Summary\n",
    "The aim of this notebook is to illustrate how to build a RAG.\n",
    "\n",
    "## Links\n",
    "- [A Comprehensive Guide to RAG](https://www.chatbees.ai/blog/rag-nlp)\n",
    "- [LangChain RAG Tutorial](https://python.langchain.com/docs/tutorials/rag/) with a [Detailed Walkthrough](https://python.langchain.com/docs/tutorials/rag/#detailed-walkthrough) (worth reading)\n",
    "- [Haystack RAG Tutorial](https://haystack.deepset.ai/tutorials/27_first_rag_pipeline)\n",
    "\n",
    "This notebook contains assigments: <font color='red'>Questions are written in red.</font>\n",
    "\n",
    "<a href=\"https://colab.research.google.com/github/markif/2024_HS_CAS_NLP_LAB_Notebooks/blob/master/10_a_How_to_RAG.ipynb\">\n",
    "  <img align=\"left\" src=\"https://colab.research.google.com/assets/colab-badge.svg\" alt=\"Open In Colab\"/>\n",
    "</a>"
   ]
  },
  {
   "cell_type": "code",
   "execution_count": 1,
   "id": "18350a95-cf7f-4e87-ae9e-2efb8655565f",
   "metadata": {},
   "outputs": [],
   "source": [
    "%%capture\n",
    "\n",
    "!pip install 'fhnw-nlp-utils>=0.10.0,<0.11.0'\n",
    "\n",
    "from fhnw.nlp.utils.storage import download\n",
    "from fhnw.nlp.utils.transformers import get_compute_device\n",
    "\n",
    "import pandas as pd\n",
    "import numpy as np"
   ]
  },
  {
   "cell_type": "markdown",
   "id": "906b91fc-a753-4fd5-949e-db68d386056f",
   "metadata": {},
   "source": [
    "**Make sure that a GPU is available (see [here](https://www.tutorialspoint.com/google_colab/google_colab_using_free_gpu.htm))!!!**"
   ]
  },
  {
   "cell_type": "code",
   "execution_count": 2,
   "id": "1c578c7e-d212-4e2e-8ad7-34eee8daf586",
   "metadata": {},
   "outputs": [
    {
     "name": "stderr",
     "output_type": "stream",
     "text": [
      "2024-11-10 10:24:05.728155: E external/local_xla/xla/stream_executor/cuda/cuda_fft.cc:485] Unable to register cuFFT factory: Attempting to register factory for plugin cuFFT when one has already been registered\n",
      "2024-11-10 10:24:05.750310: E external/local_xla/xla/stream_executor/cuda/cuda_dnn.cc:8454] Unable to register cuDNN factory: Attempting to register factory for plugin cuDNN when one has already been registered\n",
      "2024-11-10 10:24:05.756077: E external/local_xla/xla/stream_executor/cuda/cuda_blas.cc:1452] Unable to register cuBLAS factory: Attempting to register factory for plugin cuBLAS when one has already been registered\n"
     ]
    },
    {
     "name": "stdout",
     "output_type": "stream",
     "text": [
      "OS name: posix\n",
      "Platform name: Linux\n",
      "Platform release: 6.8.0-47-generic\n",
      "Python version: 3.11.0rc1\n",
      "CPU cores: 6\n",
      "RAM: 31.11GB total and 24.16GB available\n",
      "Tensorflow version: 2.17.0\n",
      "GPU is available\n",
      "GPU is a NVIDIA GeForce RTX 2070 with Max-Q Design with 8192MiB\n"
     ]
    },
    {
     "name": "stderr",
     "output_type": "stream",
     "text": [
      "/usr/local/lib/python3.11/dist-packages/pynvml/smi.py:5: FutureWarning: The pynvml.smi module is deprecated and will be removed in the next release of pynvml. Please use pynvml_utils:\n",
      "(e.g. `from pynvml_utils import nvidia_smi`)\n",
      "  warnings.warn(\n"
     ]
    }
   ],
   "source": [
    "from fhnw.nlp.utils.system import set_log_level\n",
    "from fhnw.nlp.utils.system import system_info\n",
    "\n",
    "set_log_level()\n",
    "print(system_info())"
   ]
  },
  {
   "cell_type": "code",
   "execution_count": 3,
   "id": "e81d0f1b-aca0-4152-a7e9-1a701afbb0cb",
   "metadata": {},
   "outputs": [],
   "source": [
    "%%capture\n",
    "\n",
    "!pip install transformers\n",
    "!pip install accelerate\n",
    "!pip install bitsandbytes\n",
    "!pip install pypdf\n",
    "!pip install langchain-community\n",
    "!pip install langchain-ollama\n",
    "!pip install langchain-huggingface\n",
    "!pip install chromadb"
   ]
  },
  {
   "cell_type": "code",
   "execution_count": null,
   "id": "dc837170-8a84-4cd8-a355-6e152449d33b",
   "metadata": {},
   "outputs": [],
   "source": []
  },
  {
   "cell_type": "markdown",
   "id": "2eb66315-7d9c-43dc-a299-42085dda6835",
   "metadata": {},
   "source": [
    "### Document Preparation\n",
    "\n",
    "<img src=\"https://drive.switch.ch/index.php/s/qSIM5OGsGrqdaOl/download\" alt=\"RAG Indexing\">\n",
    "Illustration of the document ingestion pipeline."
   ]
  },
  {
   "cell_type": "markdown",
   "id": "652ac2a6-1e8d-4e72-b01e-f2686acd4876",
   "metadata": {},
   "source": [
    "#### Download and Load the Documents"
   ]
  },
  {
   "cell_type": "markdown",
   "id": "5d3d8fb8-4b0b-4548-9d5d-48265786f823",
   "metadata": {},
   "source": [
    "We will do some queries on the menu of a restaurant."
   ]
  },
  {
   "cell_type": "code",
   "execution_count": 4,
   "id": "5680ca27-9efc-4ec6-b871-c3d1bf18d14a",
   "metadata": {},
   "outputs": [],
   "source": [
    "pdf_folder = \"data/pdfs\"\n",
    "\n",
    "menu_dinner = pdf_folder + \"/Menu_Dinner.pdf\"\n",
    "menu_kids = pdf_folder + \"/Menu_Kids.pdf\"\n",
    "menu_week_specials = pdf_folder + \"/Menu_Week_Specials.pdf\"\n",
    "\n",
    "download(\"https://drive.switch.ch/index.php/s/lWUezzWeYUv3Vc6/download\", menu_dinner)\n",
    "download(\"https://drive.switch.ch/index.php/s/VmjVLTmvv1mgtB1/download\", menu_kids)\n",
    "download(\"https://drive.switch.ch/index.php/s/bV5n4BxkSb2JWdP/download\", menu_week_specials)"
   ]
  },
  {
   "cell_type": "markdown",
   "id": "ef291da5-5c31-40cf-8af6-56aa4ac9a081",
   "metadata": {},
   "source": [
    "There are document loaders for different formats available:\n",
    "- LangChain provides a multitude of [document loaders](https://python.langchain.com/docs/integrations/document_loaders/) for different sources\n",
    "- Load a single [PDF document](https://python.langchain.com/docs/how_to/document_loader_pdf/)\n"
   ]
  },
  {
   "cell_type": "code",
   "execution_count": 5,
   "id": "112a7b2a-d363-4188-bc09-72b3349c061a",
   "metadata": {},
   "outputs": [
    {
     "name": "stderr",
     "output_type": "stream",
     "text": [
      "Ignoring wrong pointing object 6 0 (offset 0)\n",
      "Ignoring wrong pointing object 8 0 (offset 0)\n",
      "Ignoring wrong pointing object 10 0 (offset 0)\n",
      "Ignoring wrong pointing object 13 0 (offset 0)\n",
      "Ignoring wrong pointing object 15 0 (offset 0)\n",
      "Ignoring wrong pointing object 21 0 (offset 0)\n"
     ]
    }
   ],
   "source": [
    "from langchain_community.document_loaders import PyPDFDirectoryLoader\n",
    "\n",
    "loader = PyPDFDirectoryLoader(pdf_folder)\n",
    "documents = loader.load()"
   ]
  },
  {
   "cell_type": "markdown",
   "id": "ffdbd2b7-968d-4f5a-9e0f-f4862651f606",
   "metadata": {},
   "source": [
    "#### Split the Documents into Chunks\n",
    "\n",
    "- LangChain's text splitters [API reference](https://python.langchain.com/api_reference/text_splitters/index.html)\n",
    "- Haystack's text splitters [API reference](https://docs.haystack.deepset.ai/docs/documentsplitter)\n",
    "- [Visualize](https://chunkviz.up.railway.app/) different chunking/splitting strategies\n",
    "- [Mastering Text Splitting in LangChain](https://medium.com/@harsh.vardhan7695/mastering-text-splitting-in-langchain-735313216e01) "
   ]
  },
  {
   "cell_type": "code",
   "execution_count": 6,
   "id": "640f44c2-6178-407f-b070-b4947b3be94c",
   "metadata": {},
   "outputs": [],
   "source": [
    "from langchain.text_splitter import RecursiveCharacterTextSplitter\n",
    "\n",
    "splitter = RecursiveCharacterTextSplitter()\n",
    "#splitter = RecursiveCharacterTextSplitter(separators=[\"\\n\\n\", \"\\n\", \".\", \"?\", \"!\", \":\", \",\"], chunk_size=512, chunk_overlap=64, length_function=len)\n",
    "chunks = splitter.split_documents(documents)"
   ]
  },
  {
   "cell_type": "code",
   "execution_count": 7,
   "id": "332e48d0-2330-43de-a041-ad08461777ec",
   "metadata": {},
   "outputs": [
    {
     "name": "stdout",
     "output_type": "stream",
     "text": [
      "page_content='3. GRILLED CHEESE SANDWICH\n",
      "●\n",
      "●\n",
      "●\n",
      "Description: Melted cheese between slices of buttered bread, grilled to perfection.\n",
      "Allergens: Dairy, Gluten.\n",
      "Suitable for Vegetarians: Yes\n",
      "4. SPAGHETTI WITH MARINARA SAUCE\n",
      "●\n",
      "●\n",
      "●\n",
      "Description: Kid-friendly spaghetti noodles topped with tomato marinara sauce.\n",
      "Allergens: Gluten.\n",
      "Suitable for Vegetarians: Yes\n",
      "5. MINI PITA PIZZA\n",
      "●\n",
      "●\n",
      "●\n",
      "Description: Small pita bread topped with tomato sauce, cheese, and favorite toppings.\n",
      "Allergens: Dairy, Gluten.\n",
      "Suitable for Vegetarians: Yes\n",
      "Desserts:\n",
      "1. MINI ICE CREAM SUNDAE\n",
      "●\n",
      "●\n",
      "●\n",
      "Description: A scoop of vanilla ice cream with chocolate sauce and rainbow sprinkles.\n",
      "Allergens: Dairy.\n",
      "Suitable for Vegetarians: Yes\n",
      "2. FRUIT KABOBS\n",
      "●\n",
      "●\n",
      "●\n",
      "Description: Fresh fruit chunks on skewers for a fun and healthy dessert.\n",
      "Allergens: None.\n",
      "Suitable for Vegetarians: Yes\n",
      "3. CHOCOLATE CHIP COOKIE BITES\n",
      "●\n",
      "●\n",
      "●\n",
      "Description: Bite-sized chocolate chip cookies.\n",
      "Allergens: Dairy, Gluten.\n",
      "Suitable for Vegetarians: Yes\n",
      "4. BANANA SPLIT\n",
      "●\n",
      "●\n",
      "●\n",
      "Description: Sliced banana with scoops of strawberry, chocolate, and vanilla ice cream, topped with whipped cream\n",
      "and a cherry.\n",
      "Allergens: Dairy.\n",
      "Suitable for Vegetarians: Yes\n",
      "5. JELLO CUPS\n",
      "●\n",
      "●\n",
      "Description: Colorful and wiggly gelatin cups.\n",
      "Allergens: None.' metadata={'source': 'data/pdfs/Menu_Kids.pdf', 'page': 1}\n"
     ]
    }
   ],
   "source": [
    "print(chunks[5])"
   ]
  },
  {
   "cell_type": "markdown",
   "id": "475b0cfc-faeb-46dd-94bb-09264952eca3",
   "metadata": {},
   "source": [
    "<font color='red'>**Task: Try a different TextSplitter and see if it makes a difference (see above for interesting links).**</font>"
   ]
  },
  {
   "cell_type": "code",
   "execution_count": 8,
   "id": "6d36cc2c-63cf-43ab-aa75-8efe8e6f5106",
   "metadata": {},
   "outputs": [],
   "source": [
    "splitter = ...\n",
    "\n",
    "chunks = splitter.split_documents(documents)"
   ]
  },
  {
   "cell_type": "code",
   "execution_count": 9,
   "id": "ae3a617f-b655-4f51-9edf-62844fb29900",
   "metadata": {},
   "outputs": [
    {
     "name": "stdout",
     "output_type": "stream",
     "text": [
      "page_content='3.\n",
      "\n",
      "GRILLED CHEESE SANDWICH\n",
      "●\n",
      "●\n",
      "●\n",
      "Description: Melted cheese between slices of buttered bread, grilled to perfection.\n",
      "\n",
      "Allergens: Dairy, Gluten.\n",
      "\n",
      "Suitable for Vegetarians: Yes\n",
      "4.\n",
      "\n",
      "SPAGHETTI WITH MARINARA SAUCE\n",
      "●\n",
      "●\n",
      "●\n",
      "Description: Kid-friendly spaghetti noodles topped with tomato marinara sauce.\n",
      "\n",
      "Allergens: Gluten.\n",
      "\n",
      "Suitable for Vegetarians: Yes\n",
      "5.\n",
      "\n",
      "MINI PITA PIZZA\n",
      "●\n",
      "●\n",
      "●\n",
      "Description: Small pita bread topped with tomato sauce, cheese, and favorite toppings.\n",
      "\n",
      "Allergens: Dairy, Gluten.\n",
      "\n",
      "Suitable for Vegetarians: Yes\n",
      "Desserts:\n",
      "1.\n",
      "\n",
      "MINI ICE CREAM SUNDAE\n",
      "●\n",
      "●\n",
      "●\n",
      "Description: A scoop of vanilla ice cream with chocolate sauce and rainbow sprinkles.\n",
      "\n",
      "Allergens: Dairy.\n",
      "\n",
      "Suitable for Vegetarians: Yes\n",
      "2.\n",
      "\n",
      "FRUIT KABOBS\n",
      "●\n",
      "●\n",
      "●\n",
      "Description: Fresh fruit chunks on skewers for a fun and healthy dessert.\n",
      "\n",
      "Allergens: None.\n",
      "\n",
      "Suitable for Vegetarians: Yes\n",
      "3.\n",
      "\n",
      "CHOCOLATE CHIP COOKIE BITES\n",
      "●\n",
      "●\n",
      "●\n",
      "Description: Bite-sized chocolate chip cookies.\n",
      "\n",
      "Allergens: Dairy, Gluten.\n",
      "\n",
      "Suitable for Vegetarians: Yes\n",
      "4.\n",
      "\n",
      "BANANA SPLIT\n",
      "●\n",
      "●\n",
      "●\n",
      "Description: Sliced banana with scoops of strawberry, chocolate, and vanilla ice cream, topped with whipped cream\n",
      "and a cherry.\n",
      "\n",
      "Allergens: Dairy.\n",
      "\n",
      "Suitable for Vegetarians: Yes\n",
      "5.\n",
      "\n",
      "JELLO CUPS\n",
      "●\n",
      "●\n",
      "Description: Colorful and wiggly gelatin cups.\n",
      "\n",
      "Allergens: None.' metadata={'source': 'data/pdfs/Menu_Kids.pdf', 'page': 1}\n"
     ]
    }
   ],
   "source": [
    "print(chunks[5])"
   ]
  },
  {
   "cell_type": "code",
   "execution_count": null,
   "id": "2e1105fe-bd09-4f78-b977-1a94ab46e4d4",
   "metadata": {},
   "outputs": [],
   "source": []
  },
  {
   "cell_type": "markdown",
   "id": "8d710cc2-0e85-4260-8b0c-3ee1e7f6b112",
   "metadata": {},
   "source": [
    "#### Embed the Documents (i.e. the Chunks)\n",
    "\n",
    "Let's use [Sentence Transformers](https://www.sbert.net) (or see here [here](https://huggingface.co/sentence-transformers)) to embed our text. Models are available from [here](https://www.sbert.net/docs/sentence_transformer/pretrained_models.html) or [here](https://huggingface.co/models?library=sentence-transformers&sort=downloads)."
   ]
  },
  {
   "cell_type": "code",
   "execution_count": 10,
   "id": "79928c81-3f4c-4439-a675-0407f77e20c9",
   "metadata": {},
   "outputs": [
    {
     "name": "stderr",
     "output_type": "stream",
     "text": [
      "/usr/local/lib/python3.11/dist-packages/sentence_transformers/cross_encoder/CrossEncoder.py:13: TqdmExperimentalWarning: Using `tqdm.autonotebook.tqdm` in notebook mode. Use `tqdm.tqdm` instead to force console mode (e.g. in jupyter console)\n",
      "  from tqdm.autonotebook import tqdm, trange\n"
     ]
    }
   ],
   "source": [
    "from langchain_huggingface import HuggingFaceEmbeddings\n",
    "\n",
    "model_name_embedder = \"sentence-transformers/paraphrase-multilingual-MiniLM-L12-v2\" #\"sentence-transformers/all-mpnet-base-v2\"\n",
    "model_kwargs_embedder = {\"device\": get_compute_device()}\n",
    "\n",
    "embedder = HuggingFaceEmbeddings(model_name=model_name_embedder, model_kwargs=model_kwargs_embedder)"
   ]
  },
  {
   "cell_type": "markdown",
   "id": "fbd194a9-a7d9-4282-a7ce-baf79f5cc820",
   "metadata": {},
   "source": [
    "Let's do a quick similarity check..."
   ]
  },
  {
   "cell_type": "code",
   "execution_count": 11,
   "id": "862bb547-a7f6-4924-8980-6a95af6e130c",
   "metadata": {},
   "outputs": [],
   "source": [
    "sentences = [\n",
    "    \"Machine learning is very interesting.\",\n",
    "    \"I enjoy deep learning.\",\n",
    "    \"That is a happy person.\",\n",
    "    \"That is a happy dog.\",\n",
    "    \"That is a very happy person.\",\n",
    "    \"Today is a sunny day.\",\n",
    "    \"The weather forecast for this week is mostly sunny.\",\n",
    "    \"I like to be in my apartment.\", \n",
    "    \"I enjoy staying home.\", \n",
    "    \"The isotope 238u decays to 206pb.\"\n",
    "]\n",
    "\n",
    "embeddings = embedder.embed_documents(sentences)"
   ]
  },
  {
   "cell_type": "code",
   "execution_count": 12,
   "id": "fd1add87-e7cc-47c7-a8b2-57b16c2c67ec",
   "metadata": {},
   "outputs": [
    {
     "data": {
      "text/plain": [
       "<Axes: >"
      ]
     },
     "execution_count": 12,
     "metadata": {},
     "output_type": "execute_result"
    },
    {
     "data": {
      "image/png": "[encoded data removed]",
      "text/plain": [
       "<Figure size 640x480 with 2 Axes>"
      ]
     },
     "metadata": {},
     "output_type": "display_data"
    }
   ],
   "source": [
    "import seaborn as sns\n",
    "from sklearn.metrics.pairwise import cosine_similarity\n",
    "\n",
    "cos_sim_matrix = cosine_similarity(embeddings)\n",
    "\n",
    "sns.heatmap(cos_sim_matrix, annot=True, cmap='coolwarm', xticklabels=sentences, yticklabels=sentences)"
   ]
  },
  {
   "cell_type": "code",
   "execution_count": null,
   "id": "f4a63927-ac80-4c37-8805-1f56a1df6ca5",
   "metadata": {},
   "outputs": [],
   "source": []
  },
  {
   "cell_type": "markdown",
   "id": "b4c9cc7b-97e1-4d37-b9a6-fb200be494d9",
   "metadata": {},
   "source": [
    "#### Store the Embeddings/Chunks\n",
    "\n",
    "See [here](https://python.langchain.com/docs/integrations/vectorstores/chroma/) for the detailed API of the Chroma vector store (e.g. how to add/update documents)."
   ]
  },
  {
   "cell_type": "code",
   "execution_count": 13,
   "id": "c479d7e0-7071-4489-aa32-f18afaabae1a",
   "metadata": {},
   "outputs": [
    {
     "name": "stderr",
     "output_type": "stream",
     "text": [
      "huggingface/tokenizers: The current process just got forked, after parallelism has already been used. Disabling parallelism to avoid deadlocks...\n",
      "To disable this warning, you can either:\n",
      "\t- Avoid using `tokenizers` before the fork if possible\n",
      "\t- Explicitly set the environment variable TOKENIZERS_PARALLELISM=(true | false)\n"
     ]
    }
   ],
   "source": [
    "# cleanup (in case of re-execution to prevent duplicate entries)\n",
    "!rm -rf chroma_db"
   ]
  },
  {
   "cell_type": "code",
   "execution_count": 14,
   "id": "e2dec384-9f36-4104-a42c-9d3156b2d3d4",
   "metadata": {},
   "outputs": [],
   "source": [
    "from langchain.vectorstores import Chroma\n",
    "\n",
    "vectorstore = Chroma.from_documents(documents=chunks, embedding=embedder, persist_directory=\"chroma_db\")\n",
    "\n",
    "# alternative without additional dependencies (but not recommended for production)\n",
    "# see https://python.langchain.com/api_reference/core/vectorstores/langchain_core.vectorstores.in_memory.InMemoryVectorStore.html#inmemoryvectorstore\n",
    "#from langchain_core.vectorstores import InMemoryVectorStore\n",
    "#vectorstore = InMemoryVectorStore(embedder)\n",
    "#vectorstore.add_documents(documents=all_splits)"
   ]
  },
  {
   "cell_type": "markdown",
   "id": "ab19ec82-dc61-4eb1-877c-35b343a12fd3",
   "metadata": {},
   "source": [
    "Let's test the retriever... see [here](https://python.langchain.com/docs/concepts/vectorstores/) for details."
   ]
  },
  {
   "cell_type": "code",
   "execution_count": 15,
   "id": "9b345d39-3b7f-4900-89cf-5b6df1148119",
   "metadata": {},
   "outputs": [],
   "source": [
    "# Maximal Marginal Relevance (MMR) attempts to diversify the results of a search to avoid returning similar and redundant documents.\n",
    "retriever = vectorstore.as_retriever(search_type=\"mmr\", search_kwargs={\"k\": 3, \"fetch_k\": 6})\n",
    "\n",
    "#retriever = vectorstore.as_retriever(search_type=\"similarity\", search_kwargs={\"k\": 3})\n",
    "\n",
    "retrieved_docs = retriever.invoke(\"What are the lunch specials on Tuesday?\")"
   ]
  },
  {
   "cell_type": "code",
   "execution_count": 16,
   "id": "61e41468-b10e-49cc-af96-b133926432e3",
   "metadata": {},
   "outputs": [
    {
     "name": "stdout",
     "output_type": "stream",
     "text": [
      "page_content='The Regrettable Experience – Week specials  Monday Lunch Specials • Soup of the Day: Hearty Lentil Soup (Vegetarian/Vegan)  • Salad: Grilled Chicken Caesar Salad  Allergens: Dairy (in dressing), Gluten (in croutons), Eggs (in dressing)  • Sandwich: BLT Wrap with Avocado  Allergens: Gluten (in wrap)  Tuesday Lunch Special  • Soup of the Day: Creamy Tomato Basil (Vegetarian)  Allergens: Dairy  • Salad: Strawberry Spinach Salad with Balsamic Vinaigrette  Allergens: Potential Tree Nuts (in vinaigrette)  Quiche: Broccoli and Cheddar Quiche  Allergens: Dairy, Eggs, Gluten (in crust)  Wednesday Lunch Special  • Soup of the Day: Chicken Tortilla Soup  Allergens: Dairy, Gluten (in tortilla strips)  • Salad: Greek Salad with Feta and Olives  Allergens: Dairy (in feta)  • Flatbread: Margherita Flatbread  Allergens: Dairy, Gluten  Thursday Lunch Special  • Soup of the Day: Black Bean Soup (Vegetarian/Vegan)  • Salad: Southwest Chicken Salad with Avocado Ranch  Allergens: Dairy (in dressing), Eggs (in dressing)  • Sandwich: Turkey Bacon Avocado Melt  Allergens: Dairy, Gluten (in bread)  Friday Lunch Special  • Soup of the Day: New England Clam Chowder  Allergens: Dairy, Shellfish' metadata={'page': 0, 'source': 'data/pdfs/Menu_Week_Specials.pdf'}\n",
      "page_content='3.\n",
      "\n",
      "GRILLED CHEESE SANDWICH\n",
      "●\n",
      "●\n",
      "●\n",
      "Description: Melted cheese between slices of buttered bread, grilled to perfection.\n",
      "\n",
      "Allergens: Dairy, Gluten.\n",
      "\n",
      "Suitable for Vegetarians: Yes\n",
      "4.\n",
      "\n",
      "SPAGHETTI WITH MARINARA SAUCE\n",
      "●\n",
      "●\n",
      "●\n",
      "Description: Kid-friendly spaghetti noodles topped with tomato marinara sauce.\n",
      "\n",
      "Allergens: Gluten.\n",
      "\n",
      "Suitable for Vegetarians: Yes\n",
      "5.\n",
      "\n",
      "MINI PITA PIZZA\n",
      "●\n",
      "●\n",
      "●\n",
      "Description: Small pita bread topped with tomato sauce, cheese, and favorite toppings.\n",
      "\n",
      "Allergens: Dairy, Gluten.\n",
      "\n",
      "Suitable for Vegetarians: Yes\n",
      "Desserts:\n",
      "1.\n",
      "\n",
      "MINI ICE CREAM SUNDAE\n",
      "●\n",
      "●\n",
      "●\n",
      "Description: A scoop of vanilla ice cream with chocolate sauce and rainbow sprinkles.\n",
      "\n",
      "Allergens: Dairy.\n",
      "\n",
      "Suitable for Vegetarians: Yes\n",
      "2.\n",
      "\n",
      "FRUIT KABOBS\n",
      "●\n",
      "●\n",
      "●\n",
      "Description: Fresh fruit chunks on skewers for a fun and healthy dessert.\n",
      "\n",
      "Allergens: None.\n",
      "\n",
      "Suitable for Vegetarians: Yes\n",
      "3.\n",
      "\n",
      "CHOCOLATE CHIP COOKIE BITES\n",
      "●\n",
      "●\n",
      "●\n",
      "Description: Bite-sized chocolate chip cookies.\n",
      "\n",
      "Allergens: Dairy, Gluten.\n",
      "\n",
      "Suitable for Vegetarians: Yes\n",
      "4.\n",
      "\n",
      "BANANA SPLIT\n",
      "●\n",
      "●\n",
      "●\n",
      "Description: Sliced banana with scoops of strawberry, chocolate, and vanilla ice cream, topped with whipped cream\n",
      "and a cherry.\n",
      "\n",
      "Allergens: Dairy.\n",
      "\n",
      "Suitable for Vegetarians: Yes\n",
      "5.\n",
      "\n",
      "JELLO CUPS\n",
      "●\n",
      "●\n",
      "Description: Colorful and wiggly gelatin cups.\n",
      "\n",
      "Allergens: None.' metadata={'page': 1, 'source': 'data/pdfs/Menu_Kids.pdf'}\n",
      "page_content='The Regrettable Experience -- Dinner Menu\n",
      "Entrees:\n",
      "1.\n",
      "\n",
      "BUFFALO CHICKEN WINGS\n",
      "●\n",
      "●\n",
      "Description: Classic buffalo wings served with celery sticks and blue cheese dressing.\n",
      "\n",
      "Allergens: Dairy (in blue cheese dressing), Gluten (in the coating), possible Soy (in the sauce).\n",
      "\n",
      "2.\n",
      "\n",
      "SHRIMP AND GRITS\n",
      "●\n",
      "●\n",
      "Description: Succulent shrimp sautéed in a flavorful sauce, served over creamy cheese grits.\n",
      "\n",
      "Allergens: Dairy (in the cheese grits).\n",
      "\n",
      "3.\n",
      "\n",
      "CAPRESE SALAD STUFFED AVOCADO\n",
      "●\n",
      "●\n",
      "Description: Avocado halves filled with a fresh caprese salad of tomatoes, mozzarella, and basil, drizzled with balsamic\n",
      "glaze.\n",
      "\n",
      "Allergens: Dairy (in mozzarella), potential Tree Nuts (if using balsamic glaze with nuts).\n",
      "\n",
      "4.\n",
      "\n",
      "LOADED POTATO SKINS\n",
      "●\n",
      "●\n",
      "Description: Crispy potato skins filled with melted cheddar cheese, bacon bits, green onions, and a dollop of sour\n",
      "cream.\n",
      "\n",
      "Allergens: Dairy (in cheese and sour cream), possible Soy (in bacon bits).\n",
      "\n",
      "5.\n",
      "\n",
      "VEGETARIAN CHILI\n",
      "●\n",
      "●\n",
      "Description: Hearty chili made with a variety of beans, vegetables, and spices, topped with shredded cheese and\n",
      "chopped green onions.\n",
      "\n",
      "Allergens: None in the basic recipe, but be mindful of specific dietary restrictions.\n",
      "\n",
      "Mains:\n",
      "1.\n",
      "\n",
      "GRILLED BBQ CHICKEN\n",
      "●\n",
      "●\n",
      "Description: Juicy grilled chicken breasts slathered in smoky barbecue sauce, served with coleslaw and baked beans.\n",
      "\n",
      "Allergens: Possible Gluten (in barbecue sauce), potential Soy (in marinade).\n",
      "\n",
      "2.\n",
      "\n",
      "SOUTHERN FRIED CATFISH\n",
      "●\n",
      "●\n",
      "Description: Cornmeal-crusted catfish fillets, fried to perfection and served with hushpuppies and tartar sauce.\n",
      "\n",
      "Allergens: Gluten (in the breading).\n",
      "\n",
      "3.\n",
      "\n",
      "BBQ PULLED PORK SANDWICHES\n",
      "●\n",
      "●\n",
      "Description: Slow-cooked pulled pork in tangy barbecue sauce, piled high on a bun and served with coleslaw.\n",
      "\n",
      "Allergens: Possible Gluten (in barbecue sauce, bun), potential Soy (in sauce).\n",
      "\n",
      "4.\n",
      "\n",
      "STEAK WITH GARLIC BUTTER' metadata={'page': 0, 'source': 'data/pdfs/Menu_Dinner.pdf'}\n"
     ]
    }
   ],
   "source": [
    "for retrieved_doc in retrieved_docs:\n",
    "    print(retrieved_doc)"
   ]
  },
  {
   "cell_type": "code",
   "execution_count": null,
   "id": "4c2d1bb0-2333-499a-9b93-08a13f58cb17",
   "metadata": {},
   "outputs": [],
   "source": []
  },
  {
   "cell_type": "markdown",
   "id": "c9274a3b-ffce-4ef3-8a8e-8068e1168213",
   "metadata": {},
   "source": [
    "### Build Retrieval and Generation \n",
    "\n",
    "<img src=\"https://drive.switch.ch/index.php/s/0VUddvuY0U9e9Tj/download\" alt=\"RAG Retrieval Generation\">\n",
    "Illustration of the retrieval and generation process."
   ]
  },
  {
   "cell_type": "markdown",
   "id": "4343cf13-766d-4ca4-8bbc-db9ce9cb0b53",
   "metadata": {},
   "source": [
    "Let's use Ollama..."
   ]
  },
  {
   "cell_type": "markdown",
   "id": "fc1f2d57-d70d-4f80-855c-ba076361fbae",
   "metadata": {},
   "source": [
    "<font color='red'>**Task: In case you run this notebook from within Google Colab you need to setup Ollama first (as showcased in `Run_LLMs_Locally_As_a_Service`).**</font>"
   ]
  },
  {
   "cell_type": "code",
   "execution_count": 17,
   "id": "f85beada-a157-4acf-b649-4f26f36230a0",
   "metadata": {},
   "outputs": [],
   "source": [
    "import os\n",
    "from langchain_ollama import ChatOllama\n",
    "\n",
    "llm = ChatOllama(\n",
    "    base_url = os.getenv('OLLAMA_SERVER_URL', \"http://localhost:11434\"),\n",
    "    model = \"llama3.2\",\n",
    "    temperature = 0.8,\n",
    "    num_predict = 256,\n",
    "    # other params ...\n",
    "    #format=\"json\"\n",
    ")"
   ]
  },
  {
   "cell_type": "markdown",
   "id": "f1fd86c6-8430-43e6-a780-11de0267f189",
   "metadata": {},
   "source": [
    "Alternatively, there are also [HuggingFacePipeline](https://python.langchain.com/docs/integrations/llms/huggingface_pipelines/) and [HuggingFaceChat](https://python.langchain.com/api_reference/huggingface/chat_models/langchain_huggingface.chat_models.huggingface.ChatHuggingFace.html#langchain_huggingface.chat_models.huggingface.ChatHuggingFace) bindings which allow for accessing the LLM directly from your code... but it seems there is a [bug](https://github.com/langchain-ai/langchain/pull/25136). "
   ]
  },
  {
   "cell_type": "code",
   "execution_count": 18,
   "id": "7b76145f-750d-4268-8882-ea363f39fe8e",
   "metadata": {},
   "outputs": [],
   "source": [
    "#import transformers\n",
    "#import torch\n",
    "#from langchain_huggingface import HuggingFacePipeline, ChatHuggingFace\n",
    "#from langchain_core.messages import HumanMessage, SystemMessage\n",
    "\n",
    "#model_id_llm = \"NousResearch/Meta-Llama-3.1-8B-Instruct\"\n",
    "\n",
    "#pipeline = transformers.pipeline(\n",
    "#    \"text-generation\",\n",
    "#    model=model_id_llm,\n",
    "#    model_kwargs={\n",
    "#        \"torch_dtype\": torch.bfloat16,\n",
    "#        \"quantization_config\": {\"load_in_4bit\": True}\n",
    "#    },\n",
    "#    device_map=\"auto\",\n",
    "#    max_new_tokens=256,\n",
    "#    do_sample=True,\n",
    "#    top_k=500, \n",
    "#    top_p=0.8,\n",
    "#    temperature=0.7,\n",
    "#)\n",
    "\n",
    "#llm_pipe = HuggingFacePipeline(pipeline=pipeline)\n",
    "#llm = ChatHuggingFace(llm=llm_pipe, model_id=model_id_llm)\n",
    "\n",
    "#messages = [\n",
    "#    SystemMessage(content=\"You are a helpful assistant.\"),\n",
    "#    HumanMessage(content=\"What happens when an unstoppable force meets an immovable object?\"),\n",
    "#]\n",
    "\n",
    "## see also https://www.kaggle.com/code/kingabzpro/accessing-the-llama-3-2-lightweight-models\n",
    "##llm_response = llm_pipe.invoke(messages)\n",
    "#llm_response = llm.invoke(messages)\n",
    "\n",
    "#print(llm_response)"
   ]
  },
  {
   "cell_type": "code",
   "execution_count": 19,
   "id": "51352900-ade4-4215-ac91-22fc25a18f6d",
   "metadata": {},
   "outputs": [],
   "source": [
    "# Convert loaded documents into strings by concatenating their content\n",
    "# and ignoring metadata\n",
    "def format_docs(docs):\n",
    "    return \"\\n\\n\".join(doc.page_content for doc in docs)"
   ]
  },
  {
   "cell_type": "code",
   "execution_count": 20,
   "id": "03685bef-3c2e-4ce6-bbdd-958e4bdfeceb",
   "metadata": {},
   "outputs": [
    {
     "name": "stdout",
     "output_type": "stream",
     "text": [
      "The entrees in the Children's Menu are:\n",
      "\n",
      "1. Chicken Nuggets, \n",
      "2. Macaroni and Cheese,\n",
      "3. Mini Cheese Quesadillas,\n",
      "4. Peanut Butter and Banana Sandwich, \n",
      "5. Veggie Pita Pockets.\n"
     ]
    }
   ],
   "source": [
    "from langchain_core.output_parsers import StrOutputParser\n",
    "from langchain_core.prompts import ChatPromptTemplate\n",
    "from langchain_core.runnables import RunnablePassthrough\n",
    "\n",
    "RAG_TEMPLATE = \"\"\"\n",
    "You are an assistant for question-answering tasks. Use the following pieces of retrieved context to answer the question. If you don't know the answer, just say that you don't know. Use three sentences maximum and keep the answer concise.\n",
    "\n",
    "<context>\n",
    "{context}\n",
    "</context>\n",
    "\n",
    "Answer the following question:\n",
    "\n",
    "{question}\"\"\"\n",
    "\n",
    "# Prompt Template: https://python.langchain.com/docs/concepts/prompt_templates/\n",
    "rag_prompt = ChatPromptTemplate.from_template(RAG_TEMPLATE)\n",
    "\n",
    "# LangChain Expression Language: https://python.langchain.com/docs/concepts/lcel/\n",
    "chain = (\n",
    "    RunnablePassthrough.assign(context=lambda input: format_docs(input[\"context\"]))\n",
    "    | rag_prompt\n",
    "    | llm\n",
    "    | StrOutputParser()\n",
    ")\n",
    "\n",
    "question = \"What are the entrees in the children's menu?\"\n",
    "\n",
    "docs = vectorstore.similarity_search(question)\n",
    "\n",
    "# Run\n",
    "response = chain.invoke({\"context\": docs, \"question\": question})\n",
    "\n",
    "print(response)"
   ]
  },
  {
   "cell_type": "markdown",
   "id": "f286a557-8c0d-465c-a093-cc3fe76466d0",
   "metadata": {},
   "source": [
    "or directly using the chain..."
   ]
  },
  {
   "cell_type": "code",
   "execution_count": 21,
   "id": "6ed0fa7d-9a18-4430-881f-8b78d1cdc358",
   "metadata": {},
   "outputs": [],
   "source": [
    "qa_chain = (\n",
    "    {\"context\": retriever | format_docs, \"question\": RunnablePassthrough()}\n",
    "    | rag_prompt\n",
    "    | llm\n",
    "    | StrOutputParser()\n",
    ")"
   ]
  },
  {
   "cell_type": "code",
   "execution_count": 22,
   "id": "2d7af9dc-8e02-4499-ac42-cc08ab9c8b8e",
   "metadata": {},
   "outputs": [
    {
     "name": "stdout",
     "output_type": "stream",
     "text": [
      "The entrees in the children's menu are:\n",
      "\n",
      "1. Chicken Nuggets with ketchup or ranch dressing\n",
      "2. Macaroni and Cheese\n",
      "3. Mini Cheese Quesadillas\n",
      "4. Peanut Butter and Banana Sandwich (with whole wheat bread)\n",
      "5. Veggies Pita Pockets\n"
     ]
    }
   ],
   "source": [
    "question = \"What are the entrees in the children's menu?\"\n",
    "response = qa_chain.invoke(question)\n",
    "print(response)"
   ]
  },
  {
   "cell_type": "code",
   "execution_count": 23,
   "id": "eb9f7985-3863-48e7-bb54-1264c0209bdf",
   "metadata": {},
   "outputs": [
    {
     "name": "stdout",
     "output_type": "stream",
     "text": [
      "The vegetarian options in the children's menu are Macaroni and Cheese, Mini Cheese Quesadillas, and Veggies Pita Pockets. These dishes do not contain meat or animal by-products other than dairy. They also have specific allergen warnings related to gluten and soy.\n"
     ]
    }
   ],
   "source": [
    "question = \"What vegetarian options are in the children's menu?\"\n",
    "response = qa_chain.invoke(question)\n",
    "print(response)"
   ]
  },
  {
   "cell_type": "code",
   "execution_count": 24,
   "id": "05a3e2c1-9027-4707-94c8-dc5d37d8eb3c",
   "metadata": {},
   "outputs": [
    {
     "name": "stdout",
     "output_type": "stream",
     "text": [
      "On Mondays, the lunch special options are as follows:\n",
      "- Soup of the Day: Hearty Lentil Soup (Vegetarian/Vegan)\n",
      "- Salad: Grilled Chicken Caesar Salad\n",
      "- Sandwich: BLT Wrap with Avocado.\n"
     ]
    }
   ],
   "source": [
    "question = \"What are the week specials for lunch specials on Monday?\"\n",
    "response = qa_chain.invoke(question)\n",
    "print(response)"
   ]
  },
  {
   "cell_type": "markdown",
   "id": "c5aef853-dbaa-416e-a523-2bfccc5b0c08",
   "metadata": {},
   "source": [
    "Let's try a different language (the model should be multimodal)."
   ]
  },
  {
   "cell_type": "code",
   "execution_count": 25,
   "id": "952e9815-3054-474a-9ce9-81410764c20a",
   "metadata": {},
   "outputs": [
    {
     "name": "stdout",
     "output_type": "stream",
     "text": [
      "Die Wochenhits am Montag sind das Lunch Special für diesen Tag: Hearty Lentil Soup (Vegetarian/Vegan) und ein Grilled Chicken Caesar Salad mit folgenden Allergen:\n",
      "\n",
      "* Dairy (in dressing)\n",
      "* Gluten (in croutons)\n",
      "* Eggs (in dressing)\n",
      "\n",
      "Das BLT Wrap mit Avocado ist auch verfügbar, aber enthält Gluten in der Wrap.\n"
     ]
    }
   ],
   "source": [
    "question = \"Was sind die Wochenhits am Montag?\"\n",
    "response = qa_chain.invoke(question)\n",
    "print(response)"
   ]
  },
  {
   "cell_type": "markdown",
   "id": "374df60e-3225-4966-b69d-99ac7fc46687",
   "metadata": {},
   "source": [
    "<font color='red'>**Task: Try different questions.**</font>"
   ]
  },
  {
   "cell_type": "markdown",
   "id": "ae1bc6ef-5fd3-45c7-9b66-2403b7c39cdc",
   "metadata": {},
   "source": [
    "<font color='red'>**Task: Try to improve the RAG_TEMPLATE (the current seems to be quite generic).**</font>"
   ]
  },
  {
   "cell_type": "code",
   "execution_count": null,
   "id": "cf6ae37b-f94e-4874-ab24-8487217d72ab",
   "metadata": {},
   "outputs": [],
   "source": []
  },
  {
   "cell_type": "markdown",
   "id": "22664236-88f2-4cb2-bf27-d79499041bb0",
   "metadata": {},
   "source": [
    "## Next Steps\n",
    "\n",
    "- Allow the llm to remember your conversation by adding a [chat history](https://python.langchain.com/docs/tutorials/qa_chat_history/)\n",
    "- Allow the llm to [call tools](https://js.langchain.com/docs/how_to/tool_calling/) (e.g. to make reservations in your restaurant or [query the weather for specific locations](https://python.langchain.com/docs/tutorials/agents/))\n",
    "- Allow the llm to answer questions by [retrieving information from the web](https://python.langchain.com/docs/integrations/tools/ddg/)"
   ]
  },
  {
   "cell_type": "code",
   "execution_count": null,
   "id": "8608d71f-1d01-4bae-95f2-9f630ee936e7",
   "metadata": {},
   "outputs": [],
   "source": []
  }
 ],
 "metadata": {
  "kernelspec": {
   "display_name": "Python 3 (ipykernel)",
   "language": "python",
   "name": "python3"
  },
  "language_info": {
   "codemirror_mode": {
    "name": "ipython",
    "version": 3
   },
   "file_extension": ".py",
   "mimetype": "text/x-python",
   "name": "python",
   "nbconvert_exporter": "python",
   "pygments_lexer": "ipython3",
   "version": "3.11.0rc1"
  }
 },
 "nbformat": 4,
 "nbformat_minor": 5
}
